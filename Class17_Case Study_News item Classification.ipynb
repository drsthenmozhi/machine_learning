{
 "cells": [
  {
   "cell_type": "markdown",
   "metadata": {},
   "source": [
    "### News Categorization using SVM"
   ]
  },
  {
   "cell_type": "code",
   "execution_count": 1,
   "metadata": {},
   "outputs": [
    {
     "data": {
      "text/html": [
       "<div>\n",
       "<style scoped>\n",
       "    .dataframe tbody tr th:only-of-type {\n",
       "        vertical-align: middle;\n",
       "    }\n",
       "\n",
       "    .dataframe tbody tr th {\n",
       "        vertical-align: top;\n",
       "    }\n",
       "\n",
       "    .dataframe thead th {\n",
       "        text-align: right;\n",
       "    }\n",
       "</style>\n",
       "<table border=\"1\" class=\"dataframe\">\n",
       "  <thead>\n",
       "    <tr style=\"text-align: right;\">\n",
       "      <th></th>\n",
       "      <th>news</th>\n",
       "      <th>cluster</th>\n",
       "    </tr>\n",
       "  </thead>\n",
       "  <tbody>\n",
       "    <tr>\n",
       "      <th>0</th>\n",
       "      <td>india lose 2nd test nz 3 day suffer test serie...</td>\n",
       "      <td>1</td>\n",
       "    </tr>\n",
       "    <tr>\n",
       "      <th>1</th>\n",
       "      <td>coronavirus infect people 60 country 3,000 dead</td>\n",
       "      <td>1</td>\n",
       "    </tr>\n",
       "    <tr>\n",
       "      <th>2</th>\n",
       "      <td>sensex rise nearly 800 point asian market rebound</td>\n",
       "      <td>0</td>\n",
       "    </tr>\n",
       "    <tr>\n",
       "      <th>3</th>\n",
       "      <td>raveena take auto get late function say driver...</td>\n",
       "      <td>0</td>\n",
       "    </tr>\n",
       "    <tr>\n",
       "      <th>4</th>\n",
       "      <td>reaction self defence yami criticism reject fa...</td>\n",
       "      <td>0</td>\n",
       "    </tr>\n",
       "  </tbody>\n",
       "</table>\n",
       "</div>"
      ],
      "text/plain": [
       "                                                news  cluster\n",
       "0  india lose 2nd test nz 3 day suffer test serie...        1\n",
       "1    coronavirus infect people 60 country 3,000 dead        1\n",
       "2  sensex rise nearly 800 point asian market rebound        0\n",
       "3  raveena take auto get late function say driver...        0\n",
       "4  reaction self defence yami criticism reject fa...        0"
      ]
     },
     "execution_count": 1,
     "metadata": {},
     "output_type": "execute_result"
    }
   ],
   "source": [
    "import pandas as pd\n",
    "import numpy as np\n",
    "data=pd.read_csv(\"short_news.csv\")\n",
    "data.head()"
   ]
  },
  {
   "cell_type": "code",
   "execution_count": 2,
   "metadata": {},
   "outputs": [
    {
     "data": {
      "text/plain": [
       "0    india lose 2nd test nz 3 day suffer test serie...\n",
       "1      coronavirus infect people 60 country 3,000 dead\n",
       "2    sensex rise nearly 800 point asian market rebound\n",
       "3    raveena take auto get late function say driver...\n",
       "4    reaction self defence yami criticism reject fa...\n",
       "Name: news, dtype: object"
      ]
     },
     "execution_count": 2,
     "metadata": {},
     "output_type": "execute_result"
    }
   ],
   "source": [
    "x=data.news\n",
    "y=data.cluster\n",
    "x.head()"
   ]
  },
  {
   "cell_type": "code",
   "execution_count": 3,
   "metadata": {},
   "outputs": [],
   "source": [
    "from sklearn.svm import SVC\n",
    "from sklearn.pipeline import Pipeline\n",
    "from sklearn.feature_extraction.text import TfidfVectorizer"
   ]
  },
  {
   "cell_type": "code",
   "execution_count": 4,
   "metadata": {},
   "outputs": [],
   "source": [
    "from sklearn.model_selection import train_test_split\n",
    "X_train,X_test,y_train,y_test=train_test_split(x,y,test_size=0.2,random_state=1)"
   ]
  },
  {
   "cell_type": "code",
   "execution_count": 5,
   "metadata": {},
   "outputs": [],
   "source": [
    "pipe1=Pipeline([(\"feat_extract\",TfidfVectorizer()),\n",
    "               (\"svm_linear\",SVC(kernel=\"linear\"))])\n",
    "pipe2=Pipeline([(\"feat_extract\",TfidfVectorizer()),\n",
    "               (\"svm_linear\",SVC(kernel=\"rbf\"))])\n",
    "pipe3=Pipeline([(\"feat_extract\",TfidfVectorizer()),\n",
    "               (\"svm_linear\",SVC(kernel=\"poly\"))])\n",
    "pipe4=Pipeline([(\"feat_extract\",TfidfVectorizer()),\n",
    "               (\"svm_linear\",SVC(kernel=\"sigmoid\"))])"
   ]
  },
  {
   "cell_type": "code",
   "execution_count": 6,
   "metadata": {},
   "outputs": [
    {
     "name": "stdout",
     "output_type": "stream",
     "text": [
      "linear Pipeline test accuracy: 1.0\n",
      "rbf Pipeline test accuracy: 1.0\n",
      "poly Pipeline test accuracy: 1.0\n",
      "sigmoid Pipeline test accuracy: 1.0\n"
     ]
    }
   ],
   "source": [
    "pipelines=[pipe1,pipe2,pipe3,pipe4]\n",
    "labls={0:\"linear\",1:\"rbf\",2:\"poly\",3:\"sigmoid\"}\n",
    "\n",
    "for pipe in pipelines:\n",
    "    pipe.fit(X_train,y_train)\n",
    "    \n",
    "for idx, model in enumerate(pipelines):\n",
    "    print(labls[idx],'Pipeline test accuracy:',model.score(x,y))"
   ]
  },
  {
   "cell_type": "code",
   "execution_count": 7,
   "metadata": {},
   "outputs": [
    {
     "data": {
      "text/plain": [
       "array([0, 0, 0, 0, 0], dtype=int64)"
      ]
     },
     "execution_count": 7,
     "metadata": {},
     "output_type": "execute_result"
    }
   ],
   "source": [
    "pipe.predict(X_test)"
   ]
  },
  {
   "cell_type": "code",
   "execution_count": 8,
   "metadata": {},
   "outputs": [
    {
     "data": {
      "text/plain": [
       "array([1], dtype=int64)"
      ]
     },
     "execution_count": 8,
     "metadata": {},
     "output_type": "execute_result"
    }
   ],
   "source": [
    "new=\"Kerala successful in containing coronavirus as all 3 cases cured: Govt\"\n",
    "pipe.predict([new])"
   ]
  }
 ],
 "metadata": {
  "kernelspec": {
   "display_name": "Python 3",
   "language": "python",
   "name": "python3"
  },
  "language_info": {
   "codemirror_mode": {
    "name": "ipython",
    "version": 3
   },
   "file_extension": ".py",
   "mimetype": "text/x-python",
   "name": "python",
   "nbconvert_exporter": "python",
   "pygments_lexer": "ipython3",
   "version": "3.7.6"
  }
 },
 "nbformat": 4,
 "nbformat_minor": 4
}
