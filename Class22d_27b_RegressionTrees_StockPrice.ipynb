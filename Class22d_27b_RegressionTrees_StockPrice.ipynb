{
 "cells": [
  {
   "cell_type": "code",
   "execution_count": 1,
   "metadata": {},
   "outputs": [],
   "source": [
    "import numpy as np\n",
    "import pandas as pd\n",
    "from sklearn.model_selection import train_test_split\n",
    "from sklearn import datasets\n",
    "from sklearn.metrics import mean_squared_error,r2_score\n",
    "\n",
    "from sklearn.tree import DecisionTreeRegressor\n",
    "from sklearn.ensemble import RandomForestRegressor,AdaBoostRegressor"
   ]
  },
  {
   "cell_type": "code",
   "execution_count": 2,
   "metadata": {},
   "outputs": [],
   "source": [
    "df=pd.read_csv(\"stock_infosys.csv\")"
   ]
  },
  {
   "cell_type": "code",
   "execution_count": 3,
   "metadata": {},
   "outputs": [
    {
     "data": {
      "text/html": [
       "<div>\n",
       "<style scoped>\n",
       "    .dataframe tbody tr th:only-of-type {\n",
       "        vertical-align: middle;\n",
       "    }\n",
       "\n",
       "    .dataframe tbody tr th {\n",
       "        vertical-align: top;\n",
       "    }\n",
       "\n",
       "    .dataframe thead th {\n",
       "        text-align: right;\n",
       "    }\n",
       "</style>\n",
       "<table border=\"1\" class=\"dataframe\">\n",
       "  <thead>\n",
       "    <tr style=\"text-align: right;\">\n",
       "      <th></th>\n",
       "      <th>Date</th>\n",
       "      <th>Close</th>\n",
       "      <th>Open</th>\n",
       "      <th>High</th>\n",
       "      <th>Low</th>\n",
       "      <th>Vol-Million</th>\n",
       "      <th>Change %</th>\n",
       "    </tr>\n",
       "  </thead>\n",
       "  <tbody>\n",
       "    <tr>\n",
       "      <th>0</th>\n",
       "      <td>Jun 18, 2018</td>\n",
       "      <td>1269.20</td>\n",
       "      <td>1281.80</td>\n",
       "      <td>1291.00</td>\n",
       "      <td>1264.05</td>\n",
       "      <td>2.86</td>\n",
       "      <td>-0.01</td>\n",
       "    </tr>\n",
       "    <tr>\n",
       "      <th>1</th>\n",
       "      <td>Jun 15, 2018</td>\n",
       "      <td>1281.25</td>\n",
       "      <td>1237.00</td>\n",
       "      <td>1291.50</td>\n",
       "      <td>1235.00</td>\n",
       "      <td>9.98</td>\n",
       "      <td>0.03</td>\n",
       "    </tr>\n",
       "    <tr>\n",
       "      <th>2</th>\n",
       "      <td>Jun 14, 2018</td>\n",
       "      <td>1239.70</td>\n",
       "      <td>1253.00</td>\n",
       "      <td>1253.00</td>\n",
       "      <td>1234.10</td>\n",
       "      <td>3.80</td>\n",
       "      <td>-0.02</td>\n",
       "    </tr>\n",
       "    <tr>\n",
       "      <th>3</th>\n",
       "      <td>Jun 13, 2018</td>\n",
       "      <td>1264.80</td>\n",
       "      <td>1256.86</td>\n",
       "      <td>1273.93</td>\n",
       "      <td>1256.86</td>\n",
       "      <td>2.88</td>\n",
       "      <td>0.01</td>\n",
       "    </tr>\n",
       "    <tr>\n",
       "      <th>4</th>\n",
       "      <td>Jun 12, 2018</td>\n",
       "      <td>1248.63</td>\n",
       "      <td>1255.82</td>\n",
       "      <td>1261.28</td>\n",
       "      <td>1240.64</td>\n",
       "      <td>3.92</td>\n",
       "      <td>0.00</td>\n",
       "    </tr>\n",
       "  </tbody>\n",
       "</table>\n",
       "</div>"
      ],
      "text/plain": [
       "           Date    Close     Open     High      Low  Vol-Million  Change %\n",
       "0  Jun 18, 2018  1269.20  1281.80  1291.00  1264.05         2.86     -0.01\n",
       "1  Jun 15, 2018  1281.25  1237.00  1291.50  1235.00         9.98      0.03\n",
       "2  Jun 14, 2018  1239.70  1253.00  1253.00  1234.10         3.80     -0.02\n",
       "3  Jun 13, 2018  1264.80  1256.86  1273.93  1256.86         2.88      0.01\n",
       "4  Jun 12, 2018  1248.63  1255.82  1261.28  1240.64         3.92      0.00"
      ]
     },
     "execution_count": 3,
     "metadata": {},
     "output_type": "execute_result"
    }
   ],
   "source": [
    "df.head()"
   ]
  },
  {
   "cell_type": "code",
   "execution_count": 4,
   "metadata": {},
   "outputs": [
    {
     "data": {
      "text/plain": [
       "(249, 7)"
      ]
     },
     "execution_count": 4,
     "metadata": {},
     "output_type": "execute_result"
    }
   ],
   "source": [
    "df.shape"
   ]
  },
  {
   "cell_type": "code",
   "execution_count": 5,
   "metadata": {},
   "outputs": [],
   "source": [
    "df['Date']=pd.to_datetime(df.Date)"
   ]
  },
  {
   "cell_type": "code",
   "execution_count": 6,
   "metadata": {},
   "outputs": [
    {
     "data": {
      "text/html": [
       "<div>\n",
       "<style scoped>\n",
       "    .dataframe tbody tr th:only-of-type {\n",
       "        vertical-align: middle;\n",
       "    }\n",
       "\n",
       "    .dataframe tbody tr th {\n",
       "        vertical-align: top;\n",
       "    }\n",
       "\n",
       "    .dataframe thead th {\n",
       "        text-align: right;\n",
       "    }\n",
       "</style>\n",
       "<table border=\"1\" class=\"dataframe\">\n",
       "  <thead>\n",
       "    <tr style=\"text-align: right;\">\n",
       "      <th></th>\n",
       "      <th>Date</th>\n",
       "      <th>Close</th>\n",
       "      <th>Open</th>\n",
       "      <th>High</th>\n",
       "      <th>Low</th>\n",
       "      <th>Vol-Million</th>\n",
       "      <th>Change %</th>\n",
       "    </tr>\n",
       "  </thead>\n",
       "  <tbody>\n",
       "    <tr>\n",
       "      <th>0</th>\n",
       "      <td>2018-06-18</td>\n",
       "      <td>1269.20</td>\n",
       "      <td>1281.80</td>\n",
       "      <td>1291.00</td>\n",
       "      <td>1264.05</td>\n",
       "      <td>2.86</td>\n",
       "      <td>-0.01</td>\n",
       "    </tr>\n",
       "    <tr>\n",
       "      <th>1</th>\n",
       "      <td>2018-06-15</td>\n",
       "      <td>1281.25</td>\n",
       "      <td>1237.00</td>\n",
       "      <td>1291.50</td>\n",
       "      <td>1235.00</td>\n",
       "      <td>9.98</td>\n",
       "      <td>0.03</td>\n",
       "    </tr>\n",
       "    <tr>\n",
       "      <th>2</th>\n",
       "      <td>2018-06-14</td>\n",
       "      <td>1239.70</td>\n",
       "      <td>1253.00</td>\n",
       "      <td>1253.00</td>\n",
       "      <td>1234.10</td>\n",
       "      <td>3.80</td>\n",
       "      <td>-0.02</td>\n",
       "    </tr>\n",
       "    <tr>\n",
       "      <th>3</th>\n",
       "      <td>2018-06-13</td>\n",
       "      <td>1264.80</td>\n",
       "      <td>1256.86</td>\n",
       "      <td>1273.93</td>\n",
       "      <td>1256.86</td>\n",
       "      <td>2.88</td>\n",
       "      <td>0.01</td>\n",
       "    </tr>\n",
       "    <tr>\n",
       "      <th>4</th>\n",
       "      <td>2018-06-12</td>\n",
       "      <td>1248.63</td>\n",
       "      <td>1255.82</td>\n",
       "      <td>1261.28</td>\n",
       "      <td>1240.64</td>\n",
       "      <td>3.92</td>\n",
       "      <td>0.00</td>\n",
       "    </tr>\n",
       "  </tbody>\n",
       "</table>\n",
       "</div>"
      ],
      "text/plain": [
       "        Date    Close     Open     High      Low  Vol-Million  Change %\n",
       "0 2018-06-18  1269.20  1281.80  1291.00  1264.05         2.86     -0.01\n",
       "1 2018-06-15  1281.25  1237.00  1291.50  1235.00         9.98      0.03\n",
       "2 2018-06-14  1239.70  1253.00  1253.00  1234.10         3.80     -0.02\n",
       "3 2018-06-13  1264.80  1256.86  1273.93  1256.86         2.88      0.01\n",
       "4 2018-06-12  1248.63  1255.82  1261.28  1240.64         3.92      0.00"
      ]
     },
     "execution_count": 6,
     "metadata": {},
     "output_type": "execute_result"
    }
   ],
   "source": [
    "df.head()"
   ]
  },
  {
   "cell_type": "code",
   "execution_count": 7,
   "metadata": {},
   "outputs": [],
   "source": [
    "df['Date'] = df['Date'].dt.strftime('%y%j')"
   ]
  },
  {
   "cell_type": "code",
   "execution_count": 8,
   "metadata": {},
   "outputs": [
    {
     "data": {
      "text/html": [
       "<div>\n",
       "<style scoped>\n",
       "    .dataframe tbody tr th:only-of-type {\n",
       "        vertical-align: middle;\n",
       "    }\n",
       "\n",
       "    .dataframe tbody tr th {\n",
       "        vertical-align: top;\n",
       "    }\n",
       "\n",
       "    .dataframe thead th {\n",
       "        text-align: right;\n",
       "    }\n",
       "</style>\n",
       "<table border=\"1\" class=\"dataframe\">\n",
       "  <thead>\n",
       "    <tr style=\"text-align: right;\">\n",
       "      <th></th>\n",
       "      <th>Date</th>\n",
       "      <th>Close</th>\n",
       "      <th>Open</th>\n",
       "      <th>High</th>\n",
       "      <th>Low</th>\n",
       "      <th>Vol-Million</th>\n",
       "      <th>Change %</th>\n",
       "    </tr>\n",
       "  </thead>\n",
       "  <tbody>\n",
       "    <tr>\n",
       "      <th>0</th>\n",
       "      <td>18169</td>\n",
       "      <td>1269.20</td>\n",
       "      <td>1281.80</td>\n",
       "      <td>1291.00</td>\n",
       "      <td>1264.05</td>\n",
       "      <td>2.86</td>\n",
       "      <td>-0.01</td>\n",
       "    </tr>\n",
       "    <tr>\n",
       "      <th>1</th>\n",
       "      <td>18166</td>\n",
       "      <td>1281.25</td>\n",
       "      <td>1237.00</td>\n",
       "      <td>1291.50</td>\n",
       "      <td>1235.00</td>\n",
       "      <td>9.98</td>\n",
       "      <td>0.03</td>\n",
       "    </tr>\n",
       "    <tr>\n",
       "      <th>2</th>\n",
       "      <td>18165</td>\n",
       "      <td>1239.70</td>\n",
       "      <td>1253.00</td>\n",
       "      <td>1253.00</td>\n",
       "      <td>1234.10</td>\n",
       "      <td>3.80</td>\n",
       "      <td>-0.02</td>\n",
       "    </tr>\n",
       "    <tr>\n",
       "      <th>3</th>\n",
       "      <td>18164</td>\n",
       "      <td>1264.80</td>\n",
       "      <td>1256.86</td>\n",
       "      <td>1273.93</td>\n",
       "      <td>1256.86</td>\n",
       "      <td>2.88</td>\n",
       "      <td>0.01</td>\n",
       "    </tr>\n",
       "    <tr>\n",
       "      <th>4</th>\n",
       "      <td>18163</td>\n",
       "      <td>1248.63</td>\n",
       "      <td>1255.82</td>\n",
       "      <td>1261.28</td>\n",
       "      <td>1240.64</td>\n",
       "      <td>3.92</td>\n",
       "      <td>0.00</td>\n",
       "    </tr>\n",
       "  </tbody>\n",
       "</table>\n",
       "</div>"
      ],
      "text/plain": [
       "    Date    Close     Open     High      Low  Vol-Million  Change %\n",
       "0  18169  1269.20  1281.80  1291.00  1264.05         2.86     -0.01\n",
       "1  18166  1281.25  1237.00  1291.50  1235.00         9.98      0.03\n",
       "2  18165  1239.70  1253.00  1253.00  1234.10         3.80     -0.02\n",
       "3  18164  1264.80  1256.86  1273.93  1256.86         2.88      0.01\n",
       "4  18163  1248.63  1255.82  1261.28  1240.64         3.92      0.00"
      ]
     },
     "execution_count": 8,
     "metadata": {},
     "output_type": "execute_result"
    }
   ],
   "source": [
    "df.head()"
   ]
  },
  {
   "cell_type": "code",
   "execution_count": 9,
   "metadata": {},
   "outputs": [],
   "source": [
    "x=df[['Date','Open','High','Low']]\n",
    "y=df['Close']"
   ]
  },
  {
   "cell_type": "code",
   "execution_count": 10,
   "metadata": {},
   "outputs": [],
   "source": [
    "xtrain, xtest, ytrain, ytest = train_test_split(x,y,test_size=0.10,random_state=42,\n",
    "shuffle=True)"
   ]
  },
  {
   "cell_type": "code",
   "execution_count": 11,
   "metadata": {},
   "outputs": [
    {
     "data": {
      "text/plain": [
       "DecisionTreeRegressor(ccp_alpha=0.0, criterion='mse', max_depth=5,\n",
       "                      max_features=None, max_leaf_nodes=None,\n",
       "                      min_impurity_decrease=0.0, min_impurity_split=None,\n",
       "                      min_samples_leaf=1, min_samples_split=2,\n",
       "                      min_weight_fraction_leaf=0.0, presort='deprecated',\n",
       "                      random_state=0, splitter='best')"
      ]
     },
     "execution_count": 11,
     "metadata": {},
     "output_type": "execute_result"
    }
   ],
   "source": [
    "model =  DecisionTreeRegressor(max_depth=5,random_state=0)\n",
    "model.fit(xtrain, ytrain)"
   ]
  },
  {
   "cell_type": "code",
   "execution_count": 12,
   "metadata": {},
   "outputs": [
    {
     "name": "stdout",
     "output_type": "stream",
     "text": [
      "R2: 0.9978519773712109\n",
      "MSE 56.57816848968588\n",
      "RSquare 0.9963109955869516\n"
     ]
    }
   ],
   "source": [
    "model_score = model.score(xtrain,ytrain)\n",
    "print(\"R2:\",model_score)\n",
    "ypred = model.predict(xtest)\n",
    "mse=mean_squared_error(ytest, ypred)\n",
    "print('MSE',mse)\n",
    "r2=r2_score(ytest, ypred)\n",
    "print('RSquare',r2)"
   ]
  },
  {
   "cell_type": "code",
   "execution_count": 13,
   "metadata": {},
   "outputs": [],
   "source": [
    "from sklearn.ensemble import RandomForestRegressor\n",
    "rf=RandomForestRegressor()"
   ]
  },
  {
   "cell_type": "code",
   "execution_count": 14,
   "metadata": {},
   "outputs": [
    {
     "name": "stdout",
     "output_type": "stream",
     "text": [
      "R2: 0.9993313688341083\n",
      "MSE 34.80490669000149\n",
      "RSquare 0.9977306537520995\n"
     ]
    }
   ],
   "source": [
    "rf.fit(xtrain,ytrain)\n",
    "rf_score = rf.score(xtrain,ytrain)\n",
    "print(\"R2:\",rf_score)\n",
    "y_pred = rf.predict(xtest)\n",
    "rf_mse=mean_squared_error(ytest, y_pred)\n",
    "print('MSE',rf_mse)\n",
    "rf_r2=r2_score(ytest, y_pred)\n",
    "print('RSquare',rf_r2)"
   ]
  },
  {
   "cell_type": "code",
   "execution_count": 15,
   "metadata": {},
   "outputs": [
    {
     "name": "stdout",
     "output_type": "stream",
     "text": [
      "R2: 0.9965650422735096\n",
      "MSE 62.251666608605035\n",
      "RSquare 0.9959410726969604\n"
     ]
    }
   ],
   "source": [
    "ada=AdaBoostRegressor()\n",
    "ada.fit(xtrain,ytrain)\n",
    "ada_score = ada.score(xtrain,ytrain)\n",
    "print(\"R2:\",ada_score)\n",
    "y_pred = ada.predict(xtest)\n",
    "ada_mse=mean_squared_error(ytest, y_pred)\n",
    "print('MSE',ada_mse)\n",
    "ada_r2=r2_score(ytest, y_pred)\n",
    "print('RSquare',ada_r2)"
   ]
  },
  {
   "cell_type": "code",
   "execution_count": 16,
   "metadata": {},
   "outputs": [
    {
     "ename": "ModuleNotFoundError",
     "evalue": "No module named 'pydot'",
     "output_type": "error",
     "traceback": [
      "\u001b[1;31m---------------------------------------------------------------------------\u001b[0m",
      "\u001b[1;31mModuleNotFoundError\u001b[0m                       Traceback (most recent call last)",
      "\u001b[1;32m<ipython-input-16-50fb1586b238>\u001b[0m in \u001b[0;36m<module>\u001b[1;34m\u001b[0m\n\u001b[0;32m      1\u001b[0m \u001b[1;32mfrom\u001b[0m \u001b[0msklearn\u001b[0m\u001b[1;33m.\u001b[0m\u001b[0mtree\u001b[0m \u001b[1;32mimport\u001b[0m \u001b[0mexport_graphviz\u001b[0m\u001b[1;33m\u001b[0m\u001b[1;33m\u001b[0m\u001b[0m\n\u001b[0;32m      2\u001b[0m \u001b[1;32mfrom\u001b[0m \u001b[0mIPython\u001b[0m\u001b[1;33m.\u001b[0m\u001b[0mdisplay\u001b[0m \u001b[1;32mimport\u001b[0m \u001b[0mImage\u001b[0m\u001b[1;33m\u001b[0m\u001b[1;33m\u001b[0m\u001b[0m\n\u001b[1;32m----> 3\u001b[1;33m \u001b[1;32mimport\u001b[0m \u001b[0mpydot\u001b[0m\u001b[1;33m\u001b[0m\u001b[1;33m\u001b[0m\u001b[0m\n\u001b[0m\u001b[0;32m      4\u001b[0m \u001b[1;32mfrom\u001b[0m \u001b[0msklearn\u001b[0m\u001b[1;33m.\u001b[0m\u001b[0mexternals\u001b[0m\u001b[1;33m.\u001b[0m\u001b[0msix\u001b[0m \u001b[1;32mimport\u001b[0m \u001b[0mStringIO\u001b[0m\u001b[1;33m\u001b[0m\u001b[1;33m\u001b[0m\u001b[0m\n\u001b[0;32m      5\u001b[0m \u001b[0mdata\u001b[0m\u001b[1;33m=\u001b[0m\u001b[0mStringIO\u001b[0m\u001b[1;33m(\u001b[0m\u001b[1;33m)\u001b[0m\u001b[1;33m\u001b[0m\u001b[1;33m\u001b[0m\u001b[0m\n",
      "\u001b[1;31mModuleNotFoundError\u001b[0m: No module named 'pydot'"
     ]
    }
   ],
   "source": [
    "from sklearn.tree import export_graphviz\n",
    "from IPython.display import Image\n",
    "import pydot\n",
    "from sklearn.externals.six import StringIO\n",
    "data=StringIO()\n",
    "export_graphviz(model,out_file=data,filled=True,max_depth=2,feature_names=x.columns)\n",
    "graph=pydot.graph_from_dot_data(data.getvalue())\n",
    "Image(graph[0].create_png())"
   ]
  },
  {
   "cell_type": "code",
   "execution_count": 17,
   "metadata": {},
   "outputs": [
    {
     "data": {
      "text/plain": [
       "[Text(167.4, 190.26, 'X[0] <= 18010.5\\nmse = 12320.827\\nsamples = 224\\nvalue = 1048.202'),\n",
       " Text(83.7, 135.9, 'X[3] <= 948.375\\nmse = 1896.215\\nsamples = 127\\nvalue = 958.565'),\n",
       " Text(41.85, 81.53999999999999, 'X[2] <= 924.95\\nmse = 478.114\\nsamples = 63\\nvalue = 921.497'),\n",
       " Text(20.925, 27.180000000000007, '\\n  (...)  \\n'),\n",
       " Text(62.775000000000006, 27.180000000000007, '\\n  (...)  \\n'),\n",
       " Text(125.55000000000001, 81.53999999999999, 'X[2] <= 1006.875\\nmse = 608.08\\nsamples = 64\\nvalue = 995.055'),\n",
       " Text(104.625, 27.180000000000007, '\\n  (...)  \\n'),\n",
       " Text(146.475, 27.180000000000007, '\\n  (...)  \\n'),\n",
       " Text(251.10000000000002, 135.9, 'X[1] <= 1197.625\\nmse = 1676.806\\nsamples = 97\\nvalue = 1165.561'),\n",
       " Text(209.25, 81.53999999999999, 'X[2] <= 1160.65\\nmse = 725.049\\nsamples = 81\\nvalue = 1151.554'),\n",
       " Text(188.32500000000002, 27.180000000000007, '\\n  (...)  \\n'),\n",
       " Text(230.175, 27.180000000000007, '\\n  (...)  \\n'),\n",
       " Text(292.95, 81.53999999999999, 'X[3] <= 1234.55\\nmse = 474.149\\nsamples = 16\\nvalue = 1236.468'),\n",
       " Text(272.02500000000003, 27.180000000000007, '\\n  (...)  \\n'),\n",
       " Text(313.875, 27.180000000000007, '\\n  (...)  \\n')]"
      ]
     },
     "execution_count": 17,
     "metadata": {},
     "output_type": "execute_result"
    },
    {
     "data": {
      "image/png": "[encoded data removed]",
      "text/plain": [
       "<Figure size 432x288 with 1 Axes>"
      ]
     },
     "metadata": {
      "needs_background": "light"
     },
     "output_type": "display_data"
    }
   ],
   "source": [
    "from sklearn.tree import plot_tree\n",
    "plot_tree(model,max_depth=2)"
   ]
  },
  {
   "cell_type": "code",
   "execution_count": null,
   "metadata": {},
   "outputs": [],
   "source": []
  }
 ],
 "metadata": {
  "kernelspec": {
   "display_name": "Python 3",
   "language": "python",
   "name": "python3"
  },
  "language_info": {
   "codemirror_mode": {
    "name": "ipython",
    "version": 3
   },
   "file_extension": ".py",
   "mimetype": "text/x-python",
   "name": "python",
   "nbconvert_exporter": "python",
   "pygments_lexer": "ipython3",
   "version": "3.7.6"
  }
 },
 "nbformat": 4,
 "nbformat_minor": 2
}
